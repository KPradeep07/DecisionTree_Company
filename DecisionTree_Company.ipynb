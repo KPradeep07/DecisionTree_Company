{
 "cells": [
  {
   "cell_type": "code",
   "execution_count": 1,
   "id": "8e43ffd8",
   "metadata": {},
   "outputs": [],
   "source": [
    "import pandas as pd\n",
    "import numpy as np\n",
    "import matplotlib.pyplot as plt\n",
    "from sklearn.model_selection import train_test_split\n",
    "from sklearn.tree import DecisionTreeClassifier\n",
    "from sklearn.metrics import accuracy_score, confusion_matrix, classification_report\n",
    "from sklearn import tree"
   ]
  },
  {
   "cell_type": "code",
   "execution_count": 2,
   "id": "a3fc8f11",
   "metadata": {},
   "outputs": [],
   "source": [
    "df= pd.read_csv(\"F:\\Python\\Assignment\\Assignment 14-Decision Trees\\Company_Data.csv\")"
   ]
  },
  {
   "cell_type": "code",
   "execution_count": 3,
   "id": "7b3136bf",
   "metadata": {},
   "outputs": [
    {
     "data": {
      "text/html": [
       "<div>\n",
       "<style scoped>\n",
       "    .dataframe tbody tr th:only-of-type {\n",
       "        vertical-align: middle;\n",
       "    }\n",
       "\n",
       "    .dataframe tbody tr th {\n",
       "        vertical-align: top;\n",
       "    }\n",
       "\n",
       "    .dataframe thead th {\n",
       "        text-align: right;\n",
       "    }\n",
       "</style>\n",
       "<table border=\"1\" class=\"dataframe\">\n",
       "  <thead>\n",
       "    <tr style=\"text-align: right;\">\n",
       "      <th></th>\n",
       "      <th>Sales</th>\n",
       "      <th>CompPrice</th>\n",
       "      <th>Income</th>\n",
       "      <th>Advertising</th>\n",
       "      <th>Population</th>\n",
       "      <th>Price</th>\n",
       "      <th>ShelveLoc</th>\n",
       "      <th>Age</th>\n",
       "      <th>Education</th>\n",
       "      <th>Urban</th>\n",
       "      <th>US</th>\n",
       "    </tr>\n",
       "  </thead>\n",
       "  <tbody>\n",
       "    <tr>\n",
       "      <th>0</th>\n",
       "      <td>9.50</td>\n",
       "      <td>138</td>\n",
       "      <td>73</td>\n",
       "      <td>11</td>\n",
       "      <td>276</td>\n",
       "      <td>120</td>\n",
       "      <td>Bad</td>\n",
       "      <td>42</td>\n",
       "      <td>17</td>\n",
       "      <td>Yes</td>\n",
       "      <td>Yes</td>\n",
       "    </tr>\n",
       "    <tr>\n",
       "      <th>1</th>\n",
       "      <td>11.22</td>\n",
       "      <td>111</td>\n",
       "      <td>48</td>\n",
       "      <td>16</td>\n",
       "      <td>260</td>\n",
       "      <td>83</td>\n",
       "      <td>Good</td>\n",
       "      <td>65</td>\n",
       "      <td>10</td>\n",
       "      <td>Yes</td>\n",
       "      <td>Yes</td>\n",
       "    </tr>\n",
       "    <tr>\n",
       "      <th>2</th>\n",
       "      <td>10.06</td>\n",
       "      <td>113</td>\n",
       "      <td>35</td>\n",
       "      <td>10</td>\n",
       "      <td>269</td>\n",
       "      <td>80</td>\n",
       "      <td>Medium</td>\n",
       "      <td>59</td>\n",
       "      <td>12</td>\n",
       "      <td>Yes</td>\n",
       "      <td>Yes</td>\n",
       "    </tr>\n",
       "    <tr>\n",
       "      <th>3</th>\n",
       "      <td>7.40</td>\n",
       "      <td>117</td>\n",
       "      <td>100</td>\n",
       "      <td>4</td>\n",
       "      <td>466</td>\n",
       "      <td>97</td>\n",
       "      <td>Medium</td>\n",
       "      <td>55</td>\n",
       "      <td>14</td>\n",
       "      <td>Yes</td>\n",
       "      <td>Yes</td>\n",
       "    </tr>\n",
       "    <tr>\n",
       "      <th>4</th>\n",
       "      <td>4.15</td>\n",
       "      <td>141</td>\n",
       "      <td>64</td>\n",
       "      <td>3</td>\n",
       "      <td>340</td>\n",
       "      <td>128</td>\n",
       "      <td>Bad</td>\n",
       "      <td>38</td>\n",
       "      <td>13</td>\n",
       "      <td>Yes</td>\n",
       "      <td>No</td>\n",
       "    </tr>\n",
       "  </tbody>\n",
       "</table>\n",
       "</div>"
      ],
      "text/plain": [
       "   Sales  CompPrice  Income  Advertising  Population  Price ShelveLoc  Age  \\\n",
       "0   9.50        138      73           11         276    120       Bad   42   \n",
       "1  11.22        111      48           16         260     83      Good   65   \n",
       "2  10.06        113      35           10         269     80    Medium   59   \n",
       "3   7.40        117     100            4         466     97    Medium   55   \n",
       "4   4.15        141      64            3         340    128       Bad   38   \n",
       "\n",
       "   Education Urban   US  \n",
       "0         17   Yes  Yes  \n",
       "1         10   Yes  Yes  \n",
       "2         12   Yes  Yes  \n",
       "3         14   Yes  Yes  \n",
       "4         13   Yes   No  "
      ]
     },
     "execution_count": 3,
     "metadata": {},
     "output_type": "execute_result"
    }
   ],
   "source": [
    "df.head()"
   ]
  },
  {
   "cell_type": "code",
   "execution_count": 4,
   "id": "ad9047e0",
   "metadata": {},
   "outputs": [
    {
     "data": {
      "text/plain": [
       "<AxesSubplot:>"
      ]
     },
     "execution_count": 4,
     "metadata": {},
     "output_type": "execute_result"
    },
    {
     "data": {
      "image/png": "[encoded data removed]",
      "text/plain": [
       "<Figure size 432x288 with 1 Axes>"
      ]
     },
     "metadata": {
      "needs_background": "light"
     },
     "output_type": "display_data"
    }
   ],
   "source": [
    "df.Sales.hist()"
   ]
  },
  {
   "cell_type": "code",
   "execution_count": 5,
   "id": "0c345d5b",
   "metadata": {},
   "outputs": [
    {
     "name": "stdout",
     "output_type": "stream",
     "text": [
      "<class 'pandas.core.frame.DataFrame'>\n",
      "RangeIndex: 400 entries, 0 to 399\n",
      "Data columns (total 11 columns):\n",
      " #   Column       Non-Null Count  Dtype  \n",
      "---  ------       --------------  -----  \n",
      " 0   Sales        400 non-null    float64\n",
      " 1   CompPrice    400 non-null    int64  \n",
      " 2   Income       400 non-null    int64  \n",
      " 3   Advertising  400 non-null    int64  \n",
      " 4   Population   400 non-null    int64  \n",
      " 5   Price        400 non-null    int64  \n",
      " 6   ShelveLoc    400 non-null    object \n",
      " 7   Age          400 non-null    int64  \n",
      " 8   Education    400 non-null    int64  \n",
      " 9   Urban        400 non-null    object \n",
      " 10  US           400 non-null    object \n",
      "dtypes: float64(1), int64(7), object(3)\n",
      "memory usage: 34.5+ KB\n"
     ]
    }
   ],
   "source": [
    "df.info()"
   ]
  },
  {
   "cell_type": "code",
   "execution_count": 6,
   "id": "e84f27cd",
   "metadata": {},
   "outputs": [
    {
     "data": {
      "text/plain": [
       "Medium    219\n",
       "Bad        96\n",
       "Good       85\n",
       "Name: ShelveLoc, dtype: int64"
      ]
     },
     "execution_count": 6,
     "metadata": {},
     "output_type": "execute_result"
    }
   ],
   "source": [
    "df.ShelveLoc.value_counts()"
   ]
  },
  {
   "cell_type": "code",
   "execution_count": 7,
   "id": "b06e8f1a",
   "metadata": {},
   "outputs": [
    {
     "data": {
      "text/plain": [
       "Yes    282\n",
       "No     118\n",
       "Name: Urban, dtype: int64"
      ]
     },
     "execution_count": 7,
     "metadata": {},
     "output_type": "execute_result"
    }
   ],
   "source": [
    "df.Urban.value_counts()"
   ]
  },
  {
   "cell_type": "code",
   "execution_count": 8,
   "id": "21cb8672",
   "metadata": {},
   "outputs": [
    {
     "data": {
      "text/plain": [
       "Yes    258\n",
       "No     142\n",
       "Name: US, dtype: int64"
      ]
     },
     "execution_count": 8,
     "metadata": {},
     "output_type": "execute_result"
    }
   ],
   "source": [
    "df.US.value_counts()"
   ]
  },
  {
   "cell_type": "markdown",
   "id": "ebf7f047",
   "metadata": {},
   "source": [
    "## for converting the continuous varibale into catogorical variable for Sales feature "
   ]
  },
  {
   "cell_type": "code",
   "execution_count": 9,
   "id": "9d3dd746",
   "metadata": {},
   "outputs": [],
   "source": [
    "y = pd.cut(df.Sales , bins=[-1,10,17], labels=[\"low\" , \"high\"])"
   ]
  },
  {
   "cell_type": "code",
   "execution_count": 10,
   "id": "81e5a496",
   "metadata": {},
   "outputs": [
    {
     "data": {
      "text/plain": [
       "0       low\n",
       "1      high\n",
       "2      high\n",
       "3       low\n",
       "4       low\n",
       "       ... \n",
       "395    high\n",
       "396     low\n",
       "397     low\n",
       "398     low\n",
       "399     low\n",
       "Name: Sales, Length: 400, dtype: category\n",
       "Categories (2, object): ['low' < 'high']"
      ]
     },
     "execution_count": 10,
     "metadata": {},
     "output_type": "execute_result"
    }
   ],
   "source": [
    "y"
   ]
  },
  {
   "cell_type": "code",
   "execution_count": 11,
   "id": "7f8d07b7",
   "metadata": {},
   "outputs": [
    {
     "data": {
      "text/plain": [
       "low     322\n",
       "high     78\n",
       "Name: Sales, dtype: int64"
      ]
     },
     "execution_count": 11,
     "metadata": {},
     "output_type": "execute_result"
    }
   ],
   "source": [
    "y.value_counts()"
   ]
  },
  {
   "cell_type": "code",
   "execution_count": 12,
   "id": "34e9fe0d",
   "metadata": {},
   "outputs": [
    {
     "data": {
      "text/plain": [
       "0"
      ]
     },
     "execution_count": 12,
     "metadata": {},
     "output_type": "execute_result"
    }
   ],
   "source": [
    "y.isna().sum() # if bins are not created properly then it can create NaN in dataframe, so checking for the same"
   ]
  },
  {
   "cell_type": "code",
   "execution_count": 13,
   "id": "a719f31e",
   "metadata": {},
   "outputs": [],
   "source": [
    "x= df.iloc[: , 1:10]"
   ]
  },
  {
   "cell_type": "code",
   "execution_count": 14,
   "id": "819943d1",
   "metadata": {},
   "outputs": [
    {
     "data": {
      "text/html": [
       "<div>\n",
       "<style scoped>\n",
       "    .dataframe tbody tr th:only-of-type {\n",
       "        vertical-align: middle;\n",
       "    }\n",
       "\n",
       "    .dataframe tbody tr th {\n",
       "        vertical-align: top;\n",
       "    }\n",
       "\n",
       "    .dataframe thead th {\n",
       "        text-align: right;\n",
       "    }\n",
       "</style>\n",
       "<table border=\"1\" class=\"dataframe\">\n",
       "  <thead>\n",
       "    <tr style=\"text-align: right;\">\n",
       "      <th></th>\n",
       "      <th>CompPrice</th>\n",
       "      <th>Income</th>\n",
       "      <th>Advertising</th>\n",
       "      <th>Population</th>\n",
       "      <th>Price</th>\n",
       "      <th>Age</th>\n",
       "      <th>Education</th>\n",
       "      <th>ShelveLoc_Bad</th>\n",
       "      <th>ShelveLoc_Good</th>\n",
       "      <th>ShelveLoc_Medium</th>\n",
       "      <th>Urban_No</th>\n",
       "      <th>Urban_Yes</th>\n",
       "    </tr>\n",
       "  </thead>\n",
       "  <tbody>\n",
       "    <tr>\n",
       "      <th>0</th>\n",
       "      <td>138</td>\n",
       "      <td>73</td>\n",
       "      <td>11</td>\n",
       "      <td>276</td>\n",
       "      <td>120</td>\n",
       "      <td>42</td>\n",
       "      <td>17</td>\n",
       "      <td>1</td>\n",
       "      <td>0</td>\n",
       "      <td>0</td>\n",
       "      <td>0</td>\n",
       "      <td>1</td>\n",
       "    </tr>\n",
       "    <tr>\n",
       "      <th>1</th>\n",
       "      <td>111</td>\n",
       "      <td>48</td>\n",
       "      <td>16</td>\n",
       "      <td>260</td>\n",
       "      <td>83</td>\n",
       "      <td>65</td>\n",
       "      <td>10</td>\n",
       "      <td>0</td>\n",
       "      <td>1</td>\n",
       "      <td>0</td>\n",
       "      <td>0</td>\n",
       "      <td>1</td>\n",
       "    </tr>\n",
       "    <tr>\n",
       "      <th>2</th>\n",
       "      <td>113</td>\n",
       "      <td>35</td>\n",
       "      <td>10</td>\n",
       "      <td>269</td>\n",
       "      <td>80</td>\n",
       "      <td>59</td>\n",
       "      <td>12</td>\n",
       "      <td>0</td>\n",
       "      <td>0</td>\n",
       "      <td>1</td>\n",
       "      <td>0</td>\n",
       "      <td>1</td>\n",
       "    </tr>\n",
       "    <tr>\n",
       "      <th>3</th>\n",
       "      <td>117</td>\n",
       "      <td>100</td>\n",
       "      <td>4</td>\n",
       "      <td>466</td>\n",
       "      <td>97</td>\n",
       "      <td>55</td>\n",
       "      <td>14</td>\n",
       "      <td>0</td>\n",
       "      <td>0</td>\n",
       "      <td>1</td>\n",
       "      <td>0</td>\n",
       "      <td>1</td>\n",
       "    </tr>\n",
       "    <tr>\n",
       "      <th>4</th>\n",
       "      <td>141</td>\n",
       "      <td>64</td>\n",
       "      <td>3</td>\n",
       "      <td>340</td>\n",
       "      <td>128</td>\n",
       "      <td>38</td>\n",
       "      <td>13</td>\n",
       "      <td>1</td>\n",
       "      <td>0</td>\n",
       "      <td>0</td>\n",
       "      <td>0</td>\n",
       "      <td>1</td>\n",
       "    </tr>\n",
       "    <tr>\n",
       "      <th>...</th>\n",
       "      <td>...</td>\n",
       "      <td>...</td>\n",
       "      <td>...</td>\n",
       "      <td>...</td>\n",
       "      <td>...</td>\n",
       "      <td>...</td>\n",
       "      <td>...</td>\n",
       "      <td>...</td>\n",
       "      <td>...</td>\n",
       "      <td>...</td>\n",
       "      <td>...</td>\n",
       "      <td>...</td>\n",
       "    </tr>\n",
       "    <tr>\n",
       "      <th>395</th>\n",
       "      <td>138</td>\n",
       "      <td>108</td>\n",
       "      <td>17</td>\n",
       "      <td>203</td>\n",
       "      <td>128</td>\n",
       "      <td>33</td>\n",
       "      <td>14</td>\n",
       "      <td>0</td>\n",
       "      <td>1</td>\n",
       "      <td>0</td>\n",
       "      <td>0</td>\n",
       "      <td>1</td>\n",
       "    </tr>\n",
       "    <tr>\n",
       "      <th>396</th>\n",
       "      <td>139</td>\n",
       "      <td>23</td>\n",
       "      <td>3</td>\n",
       "      <td>37</td>\n",
       "      <td>120</td>\n",
       "      <td>55</td>\n",
       "      <td>11</td>\n",
       "      <td>0</td>\n",
       "      <td>0</td>\n",
       "      <td>1</td>\n",
       "      <td>1</td>\n",
       "      <td>0</td>\n",
       "    </tr>\n",
       "    <tr>\n",
       "      <th>397</th>\n",
       "      <td>162</td>\n",
       "      <td>26</td>\n",
       "      <td>12</td>\n",
       "      <td>368</td>\n",
       "      <td>159</td>\n",
       "      <td>40</td>\n",
       "      <td>18</td>\n",
       "      <td>0</td>\n",
       "      <td>0</td>\n",
       "      <td>1</td>\n",
       "      <td>0</td>\n",
       "      <td>1</td>\n",
       "    </tr>\n",
       "    <tr>\n",
       "      <th>398</th>\n",
       "      <td>100</td>\n",
       "      <td>79</td>\n",
       "      <td>7</td>\n",
       "      <td>284</td>\n",
       "      <td>95</td>\n",
       "      <td>50</td>\n",
       "      <td>12</td>\n",
       "      <td>1</td>\n",
       "      <td>0</td>\n",
       "      <td>0</td>\n",
       "      <td>0</td>\n",
       "      <td>1</td>\n",
       "    </tr>\n",
       "    <tr>\n",
       "      <th>399</th>\n",
       "      <td>134</td>\n",
       "      <td>37</td>\n",
       "      <td>0</td>\n",
       "      <td>27</td>\n",
       "      <td>120</td>\n",
       "      <td>49</td>\n",
       "      <td>16</td>\n",
       "      <td>0</td>\n",
       "      <td>1</td>\n",
       "      <td>0</td>\n",
       "      <td>0</td>\n",
       "      <td>1</td>\n",
       "    </tr>\n",
       "  </tbody>\n",
       "</table>\n",
       "<p>400 rows × 12 columns</p>\n",
       "</div>"
      ],
      "text/plain": [
       "     CompPrice  Income  Advertising  Population  Price  Age  Education  \\\n",
       "0          138      73           11         276    120   42         17   \n",
       "1          111      48           16         260     83   65         10   \n",
       "2          113      35           10         269     80   59         12   \n",
       "3          117     100            4         466     97   55         14   \n",
       "4          141      64            3         340    128   38         13   \n",
       "..         ...     ...          ...         ...    ...  ...        ...   \n",
       "395        138     108           17         203    128   33         14   \n",
       "396        139      23            3          37    120   55         11   \n",
       "397        162      26           12         368    159   40         18   \n",
       "398        100      79            7         284     95   50         12   \n",
       "399        134      37            0          27    120   49         16   \n",
       "\n",
       "     ShelveLoc_Bad  ShelveLoc_Good  ShelveLoc_Medium  Urban_No  Urban_Yes  \n",
       "0                1               0                 0         0          1  \n",
       "1                0               1                 0         0          1  \n",
       "2                0               0                 1         0          1  \n",
       "3                0               0                 1         0          1  \n",
       "4                1               0                 0         0          1  \n",
       "..             ...             ...               ...       ...        ...  \n",
       "395              0               1                 0         0          1  \n",
       "396              0               0                 1         1          0  \n",
       "397              0               0                 1         0          1  \n",
       "398              1               0                 0         0          1  \n",
       "399              0               1                 0         0          1  \n",
       "\n",
       "[400 rows x 12 columns]"
      ]
     },
     "execution_count": 14,
     "metadata": {},
     "output_type": "execute_result"
    }
   ],
   "source": [
    "# creating dummy variable for catagorical features\n",
    "X= pd.get_dummies(x)\n",
    "X"
   ]
  },
  {
   "cell_type": "code",
   "execution_count": 15,
   "id": "41f030df",
   "metadata": {},
   "outputs": [],
   "source": [
    "x_train, x_test, y_train, y_test = train_test_split(X, y, test_size=0.3, random_state=42)"
   ]
  },
  {
   "cell_type": "markdown",
   "id": "acd4c85b",
   "metadata": {},
   "source": [
    "# Using Tree with Gini Criteria and max depth of 3"
   ]
  },
  {
   "cell_type": "code",
   "execution_count": 16,
   "id": "829ab322",
   "metadata": {},
   "outputs": [],
   "source": [
    "dtc_gi= DecisionTreeClassifier(max_depth=3, criterion='gini', random_state=42)"
   ]
  },
  {
   "cell_type": "code",
   "execution_count": 17,
   "id": "e3397037",
   "metadata": {},
   "outputs": [
    {
     "data": {
      "text/plain": [
       "DecisionTreeClassifier(max_depth=3, random_state=42)"
      ]
     },
     "execution_count": 17,
     "metadata": {},
     "output_type": "execute_result"
    }
   ],
   "source": [
    "dtc_gi.fit(x_train, y_train)"
   ]
  },
  {
   "cell_type": "code",
   "execution_count": 18,
   "id": "a2b73bc1",
   "metadata": {},
   "outputs": [],
   "source": [
    "ypred_gi = dtc_gi.predict(x_test)"
   ]
  },
  {
   "cell_type": "code",
   "execution_count": 19,
   "id": "cdf3c39e",
   "metadata": {},
   "outputs": [
    {
     "name": "stdout",
     "output_type": "stream",
     "text": [
      "Accuracy score using gini criterion with max depth 3 is 83.333 %\n"
     ]
    }
   ],
   "source": [
    "accuracy_score1 =np.round(accuracy_score(y_test,ypred_gi)*100, 3)\n",
    "print(f\"Accuracy score using gini criterion with max depth 3 is {accuracy_score1} %\")"
   ]
  },
  {
   "cell_type": "code",
   "execution_count": 20,
   "id": "054d8722",
   "metadata": {},
   "outputs": [
    {
     "name": "stdout",
     "output_type": "stream",
     "text": [
      "confusion matrix \n",
      " [[17  7]\n",
      " [13 83]]\n"
     ]
    }
   ],
   "source": [
    "print(f\"confusion matrix \\n {confusion_matrix(y_test, ypred_gi)}\")"
   ]
  },
  {
   "cell_type": "code",
   "execution_count": 21,
   "id": "0a563173",
   "metadata": {},
   "outputs": [
    {
     "name": "stdout",
     "output_type": "stream",
     "text": [
      "Test score is 0.8333333333333334\n",
      "Train score is 0.8821428571428571\n"
     ]
    }
   ],
   "source": [
    "print(f\"Test score is {dtc_gi.score(x_test, y_test)}\")\n",
    "print(f\"Train score is {dtc_gi.score(x_train, y_train)}\")"
   ]
  },
  {
   "cell_type": "code",
   "execution_count": 22,
   "id": "420c2606",
   "metadata": {},
   "outputs": [
    {
     "name": "stdout",
     "output_type": "stream",
     "text": [
      "              precision    recall  f1-score   support\n",
      "\n",
      "        high       0.57      0.71      0.63        24\n",
      "         low       0.92      0.86      0.89        96\n",
      "\n",
      "    accuracy                           0.83       120\n",
      "   macro avg       0.74      0.79      0.76       120\n",
      "weighted avg       0.85      0.83      0.84       120\n",
      "\n"
     ]
    }
   ],
   "source": [
    "print(classification_report(y_test, ypred_gi))"
   ]
  },
  {
   "cell_type": "markdown",
   "id": "c3fcfba4",
   "metadata": {},
   "source": [
    "# Using tree with entropy criterion"
   ]
  },
  {
   "cell_type": "code",
   "execution_count": 23,
   "id": "03a3241f",
   "metadata": {},
   "outputs": [
    {
     "data": {
      "text/plain": [
       "DecisionTreeClassifier(criterion='entropy', max_depth=3, random_state=42)"
      ]
     },
     "execution_count": 23,
     "metadata": {},
     "output_type": "execute_result"
    }
   ],
   "source": [
    "dtc_en = DecisionTreeClassifier(criterion=\"entropy\" , max_depth=3, random_state=42)\n",
    "dtc_en.fit(x_train, y_train)"
   ]
  },
  {
   "cell_type": "code",
   "execution_count": 24,
   "id": "19a31e3e",
   "metadata": {},
   "outputs": [],
   "source": [
    "ypred_en = dtc_en.predict(x_test)"
   ]
  },
  {
   "cell_type": "code",
   "execution_count": 25,
   "id": "3c2ef4d1",
   "metadata": {},
   "outputs": [
    {
     "name": "stdout",
     "output_type": "stream",
     "text": [
      "              precision    recall  f1-score   support\n",
      "\n",
      "        high       0.75      0.50      0.60        24\n",
      "         low       0.88      0.96      0.92        96\n",
      "\n",
      "    accuracy                           0.87       120\n",
      "   macro avg       0.82      0.73      0.76       120\n",
      "weighted avg       0.86      0.87      0.86       120\n",
      "\n"
     ]
    }
   ],
   "source": [
    "print(classification_report(y_test, ypred_en))"
   ]
  },
  {
   "cell_type": "code",
   "execution_count": 26,
   "id": "92650c51",
   "metadata": {},
   "outputs": [
    {
     "name": "stdout",
     "output_type": "stream",
     "text": [
      "Accuracy score using entropy criterion with max depth 3 is 86.667 %\n"
     ]
    }
   ],
   "source": [
    "accu=np.round(accuracy_score(y_test, ypred_en)*100,3)\n",
    "print(f\"Accuracy score using entropy criterion with max depth 3 is {accu} %\")"
   ]
  },
  {
   "cell_type": "code",
   "execution_count": 27,
   "id": "bebce42c",
   "metadata": {},
   "outputs": [
    {
     "name": "stdout",
     "output_type": "stream",
     "text": [
      "confusion matrix \n",
      " [[12 12]\n",
      " [ 4 92]]\n"
     ]
    }
   ],
   "source": [
    "print(f\"confusion matrix \\n {confusion_matrix(y_test, ypred_en)}\")"
   ]
  },
  {
   "cell_type": "code",
   "execution_count": 28,
   "id": "02363a71",
   "metadata": {},
   "outputs": [
    {
     "name": "stdout",
     "output_type": "stream",
     "text": [
      "Test score is 0.8666666666666667\n",
      "Train score is 0.8607142857142858\n"
     ]
    }
   ],
   "source": [
    "print(f\"Test score is {dtc_en.score(x_test, y_test)}\")\n",
    "print(f\"Train score is {dtc_en.score(x_train, y_train)}\")"
   ]
  },
  {
   "cell_type": "markdown",
   "id": "007ca7cc",
   "metadata": {},
   "source": [
    "# Using Tree with cost Complexity Pruning Technique"
   ]
  },
  {
   "cell_type": "code",
   "execution_count": 29,
   "id": "e0267f5b",
   "metadata": {},
   "outputs": [],
   "source": [
    "dtc = DecisionTreeClassifier(random_state= 42)\n",
    "dtc.fit(x_train, y_train)\n",
    "ypred = dtc.predict(x_test)"
   ]
  },
  {
   "cell_type": "code",
   "execution_count": 30,
   "id": "ae79e79f",
   "metadata": {},
   "outputs": [
    {
     "data": {
      "text/plain": [
       "0.7583333333333333"
      ]
     },
     "execution_count": 30,
     "metadata": {},
     "output_type": "execute_result"
    }
   ],
   "source": [
    "accuracy_score(y_test, ypred)"
   ]
  },
  {
   "cell_type": "code",
   "execution_count": 31,
   "id": "745dff87",
   "metadata": {},
   "outputs": [
    {
     "data": {
      "text/plain": [
       "[Text(450.46875, 513.4, 'X[8] <= 0.5\\ngini = 0.311\\nsamples = 280\\nvalue = [54, 226]'),\n",
       " Text(238.3125, 453.0, 'X[4] <= 94.5\\ngini = 0.198\\nsamples = 224\\nvalue = [25, 199]'),\n",
       " Text(93.0, 392.6, 'X[0] <= 120.5\\ngini = 0.467\\nsamples = 35\\nvalue = [13, 22]'),\n",
       " Text(46.5, 332.2, 'X[5] <= 28.5\\ngini = 0.346\\nsamples = 27\\nvalue = [6, 21]'),\n",
       " Text(23.25, 271.8, 'gini = 0.0\\nsamples = 2\\nvalue = [2, 0]'),\n",
       " Text(69.75, 271.8, 'X[2] <= 1.5\\ngini = 0.269\\nsamples = 25\\nvalue = [4, 21]'),\n",
       " Text(46.5, 211.39999999999998, 'gini = 0.0\\nsamples = 13\\nvalue = [0, 13]'),\n",
       " Text(93.0, 211.39999999999998, 'X[3] <= 423.0\\ngini = 0.444\\nsamples = 12\\nvalue = [4, 8]'),\n",
       " Text(69.75, 151.0, 'X[7] <= 0.5\\ngini = 0.49\\nsamples = 7\\nvalue = [4, 3]'),\n",
       " Text(46.5, 90.59999999999997, 'X[11] <= 0.5\\ngini = 0.32\\nsamples = 5\\nvalue = [4, 1]'),\n",
       " Text(23.25, 30.199999999999932, 'gini = 0.0\\nsamples = 1\\nvalue = [0, 1]'),\n",
       " Text(69.75, 30.199999999999932, 'gini = 0.0\\nsamples = 4\\nvalue = [4, 0]'),\n",
       " Text(93.0, 90.59999999999997, 'gini = 0.0\\nsamples = 2\\nvalue = [0, 2]'),\n",
       " Text(116.25, 151.0, 'gini = 0.0\\nsamples = 5\\nvalue = [0, 5]'),\n",
       " Text(139.5, 332.2, 'X[1] <= 43.5\\ngini = 0.219\\nsamples = 8\\nvalue = [7, 1]'),\n",
       " Text(116.25, 271.8, 'gini = 0.0\\nsamples = 1\\nvalue = [0, 1]'),\n",
       " Text(162.75, 271.8, 'gini = 0.0\\nsamples = 7\\nvalue = [7, 0]'),\n",
       " Text(383.625, 392.6, 'X[2] <= 14.5\\ngini = 0.119\\nsamples = 189\\nvalue = [12, 177]'),\n",
       " Text(279.0, 332.2, 'X[2] <= 10.5\\ngini = 0.058\\nsamples = 167\\nvalue = [5, 162]'),\n",
       " Text(209.25, 271.8, 'X[0] <= 158.0\\ngini = 0.015\\nsamples = 131\\nvalue = [1, 130]'),\n",
       " Text(186.0, 211.39999999999998, 'gini = 0.0\\nsamples = 127\\nvalue = [0, 127]'),\n",
       " Text(232.5, 211.39999999999998, 'X[4] <= 125.0\\ngini = 0.375\\nsamples = 4\\nvalue = [1, 3]'),\n",
       " Text(209.25, 151.0, 'gini = 0.0\\nsamples = 1\\nvalue = [1, 0]'),\n",
       " Text(255.75, 151.0, 'gini = 0.0\\nsamples = 3\\nvalue = [0, 3]'),\n",
       " Text(348.75, 271.8, 'X[4] <= 109.5\\ngini = 0.198\\nsamples = 36\\nvalue = [4, 32]'),\n",
       " Text(325.5, 211.39999999999998, 'X[0] <= 119.0\\ngini = 0.48\\nsamples = 10\\nvalue = [4, 6]'),\n",
       " Text(302.25, 151.0, 'gini = 0.0\\nsamples = 5\\nvalue = [0, 5]'),\n",
       " Text(348.75, 151.0, 'X[5] <= 40.5\\ngini = 0.32\\nsamples = 5\\nvalue = [4, 1]'),\n",
       " Text(325.5, 90.59999999999997, 'gini = 0.0\\nsamples = 1\\nvalue = [0, 1]'),\n",
       " Text(372.0, 90.59999999999997, 'gini = 0.0\\nsamples = 4\\nvalue = [4, 0]'),\n",
       " Text(372.0, 211.39999999999998, 'gini = 0.0\\nsamples = 26\\nvalue = [0, 26]'),\n",
       " Text(488.25, 332.2, 'X[5] <= 48.5\\ngini = 0.434\\nsamples = 22\\nvalue = [7, 15]'),\n",
       " Text(441.75, 271.8, 'X[4] <= 116.0\\ngini = 0.375\\nsamples = 8\\nvalue = [6, 2]'),\n",
       " Text(418.5, 211.39999999999998, 'gini = 0.0\\nsamples = 5\\nvalue = [5, 0]'),\n",
       " Text(465.0, 211.39999999999998, 'X[4] <= 131.0\\ngini = 0.444\\nsamples = 3\\nvalue = [1, 2]'),\n",
       " Text(441.75, 151.0, 'gini = 0.0\\nsamples = 2\\nvalue = [0, 2]'),\n",
       " Text(488.25, 151.0, 'gini = 0.0\\nsamples = 1\\nvalue = [1, 0]'),\n",
       " Text(534.75, 271.8, 'X[1] <= 107.0\\ngini = 0.133\\nsamples = 14\\nvalue = [1, 13]'),\n",
       " Text(511.5, 211.39999999999998, 'gini = 0.0\\nsamples = 13\\nvalue = [0, 13]'),\n",
       " Text(558.0, 211.39999999999998, 'gini = 0.0\\nsamples = 1\\nvalue = [1, 0]'),\n",
       " Text(662.625, 453.0, 'X[4] <= 119.5\\ngini = 0.499\\nsamples = 56\\nvalue = [29, 27]'),\n",
       " Text(581.25, 392.6, 'X[10] <= 0.5\\ngini = 0.287\\nsamples = 23\\nvalue = [19, 4]'),\n",
       " Text(558.0, 332.2, 'gini = 0.0\\nsamples = 14\\nvalue = [14, 0]'),\n",
       " Text(604.5, 332.2, 'X[2] <= 7.5\\ngini = 0.494\\nsamples = 9\\nvalue = [5, 4]'),\n",
       " Text(581.25, 271.8, 'gini = 0.0\\nsamples = 4\\nvalue = [0, 4]'),\n",
       " Text(627.75, 271.8, 'gini = 0.0\\nsamples = 5\\nvalue = [5, 0]'),\n",
       " Text(744.0, 392.6, 'X[5] <= 55.0\\ngini = 0.422\\nsamples = 33\\nvalue = [10, 23]'),\n",
       " Text(697.5, 332.2, 'X[4] <= 152.0\\ngini = 0.5\\nsamples = 16\\nvalue = [8, 8]'),\n",
       " Text(674.25, 271.8, 'X[0] <= 112.0\\ngini = 0.444\\nsamples = 12\\nvalue = [8, 4]'),\n",
       " Text(651.0, 211.39999999999998, 'gini = 0.0\\nsamples = 2\\nvalue = [0, 2]'),\n",
       " Text(697.5, 211.39999999999998, 'X[4] <= 124.5\\ngini = 0.32\\nsamples = 10\\nvalue = [8, 2]'),\n",
       " Text(674.25, 151.0, 'gini = 0.0\\nsamples = 2\\nvalue = [0, 2]'),\n",
       " Text(720.75, 151.0, 'gini = 0.0\\nsamples = 8\\nvalue = [8, 0]'),\n",
       " Text(720.75, 271.8, 'gini = 0.0\\nsamples = 4\\nvalue = [0, 4]'),\n",
       " Text(790.5, 332.2, 'X[2] <= 16.5\\ngini = 0.208\\nsamples = 17\\nvalue = [2, 15]'),\n",
       " Text(767.25, 271.8, 'X[0] <= 147.5\\ngini = 0.117\\nsamples = 16\\nvalue = [1, 15]'),\n",
       " Text(744.0, 211.39999999999998, 'gini = 0.0\\nsamples = 13\\nvalue = [0, 13]'),\n",
       " Text(790.5, 211.39999999999998, 'X[4] <= 142.0\\ngini = 0.444\\nsamples = 3\\nvalue = [1, 2]'),\n",
       " Text(767.25, 151.0, 'gini = 0.0\\nsamples = 1\\nvalue = [1, 0]'),\n",
       " Text(813.75, 151.0, 'gini = 0.0\\nsamples = 2\\nvalue = [0, 2]'),\n",
       " Text(813.75, 271.8, 'gini = 0.0\\nsamples = 1\\nvalue = [1, 0]')]"
      ]
     },
     "execution_count": 31,
     "metadata": {},
     "output_type": "execute_result"
    },
    {
     "data": {
      "image/png": "[encoded data removed]",
      "text/plain": [
       "<Figure size 1080x720 with 1 Axes>"
      ]
     },
     "metadata": {
      "needs_background": "light"
     },
     "output_type": "display_data"
    }
   ],
   "source": [
    "plt.figure(figsize=(15,10))\n",
    "tree.plot_tree(dtc, filled= True)"
   ]
  },
  {
   "cell_type": "code",
   "execution_count": 32,
   "id": "70c7339d",
   "metadata": {},
   "outputs": [
    {
     "data": {
      "text/plain": [
       "{'ccp_alphas': array([0.        , 0.00334821, 0.00354417, 0.0047619 , 0.00571429,\n",
       "        0.00571429, 0.00590861, 0.00595238, 0.00609524, 0.00625   ,\n",
       "        0.00663265, 0.00728079, 0.00929463, 0.00933333, 0.01180124,\n",
       "        0.01414009, 0.01878401, 0.02000213, 0.02648641, 0.0528125 ]),\n",
       " 'impurities': array([0.        , 0.00669643, 0.01378476, 0.01854666, 0.02426095,\n",
       "        0.02997524, 0.03588385, 0.04183623, 0.06012194, 0.06637194,\n",
       "        0.0730046 , 0.09484698, 0.13202548, 0.14135882, 0.1649613 ,\n",
       "        0.19324148, 0.21202549, 0.23202762, 0.25851403, 0.31132653])}"
      ]
     },
     "execution_count": 32,
     "metadata": {},
     "output_type": "execute_result"
    }
   ],
   "source": [
    "prun_path = dtc.cost_complexity_pruning_path(x_train, y_train)\n",
    "prun_path"
   ]
  },
  {
   "cell_type": "code",
   "execution_count": 33,
   "id": "4926c1a4",
   "metadata": {},
   "outputs": [],
   "source": [
    "ccp_alphas, impurities = prun_path.ccp_alphas , prun_path.impurities"
   ]
  },
  {
   "cell_type": "code",
   "execution_count": 34,
   "id": "26fa9073",
   "metadata": {},
   "outputs": [
    {
     "data": {
      "text/plain": [
       "array([0.        , 0.00334821, 0.00354417, 0.0047619 , 0.00571429,\n",
       "       0.00571429, 0.00590861, 0.00595238, 0.00609524, 0.00625   ,\n",
       "       0.00663265, 0.00728079, 0.00929463, 0.00933333, 0.01180124,\n",
       "       0.01414009, 0.01878401, 0.02000213, 0.02648641, 0.0528125 ])"
      ]
     },
     "execution_count": 34,
     "metadata": {},
     "output_type": "execute_result"
    }
   ],
   "source": [
    "ccp_alphas"
   ]
  },
  {
   "cell_type": "code",
   "execution_count": 35,
   "id": "dcb1c58d",
   "metadata": {},
   "outputs": [
    {
     "data": {
      "text/plain": [
       "array([0.        , 0.00669643, 0.01378476, 0.01854666, 0.02426095,\n",
       "       0.02997524, 0.03588385, 0.04183623, 0.06012194, 0.06637194,\n",
       "       0.0730046 , 0.09484698, 0.13202548, 0.14135882, 0.1649613 ,\n",
       "       0.19324148, 0.21202549, 0.23202762, 0.25851403, 0.31132653])"
      ]
     },
     "execution_count": 35,
     "metadata": {},
     "output_type": "execute_result"
    }
   ],
   "source": [
    "impurities"
   ]
  },
  {
   "cell_type": "code",
   "execution_count": 36,
   "id": "9ab3935d",
   "metadata": {},
   "outputs": [],
   "source": [
    "dtcs= []\n",
    "for ccp in ccp_alphas:\n",
    "    dtc1 = DecisionTreeClassifier(random_state=42, ccp_alpha=ccp)\n",
    "    dtc1.fit(x_train, y_train)\n",
    "    dtcs.append(dtc1)\n",
    "\n",
    "#print(f\"the number of nodes in th last tree is {dtcs[-1].tree_.node_count} with ccp_alphas {ccp_alphas[-1]}\")\n"
   ]
  },
  {
   "cell_type": "code",
   "execution_count": 37,
   "id": "b5064a55",
   "metadata": {},
   "outputs": [
    {
     "data": {
      "image/png": "[encoded data removed]",
      "text/plain": [
       "<Figure size 432x288 with 1 Axes>"
      ]
     },
     "metadata": {
      "needs_background": "light"
     },
     "output_type": "display_data"
    }
   ],
   "source": [
    "train_score = [dtcc.score(x_train, y_train) for dtcc in dtcs]\n",
    "test_score = [dtcc.score(x_test, y_test) for dtcc in dtcs]\n",
    "\n",
    "fig, ax= plt.subplots()\n",
    "ax.set_xlabel(\"alpha\")\n",
    "ax.set_ylabel(\"alpha\")\n",
    "ax.plot(ccp_alphas, train_score, label= \"train\", drawstyle= \"steps-post\", marker= \"o\")\n",
    "ax.plot(ccp_alphas, test_score, label= \"test\", drawstyle= \"steps-post\", marker= \"o\")\n",
    "ax.legend()\n",
    "plt.show()"
   ]
  },
  {
   "cell_type": "code",
   "execution_count": 38,
   "id": "bb9e7595",
   "metadata": {},
   "outputs": [
    {
     "data": {
      "text/plain": [
       "DecisionTreeClassifier(ccp_alpha=0.02, random_state=42)"
      ]
     },
     "execution_count": 38,
     "metadata": {},
     "output_type": "execute_result"
    }
   ],
   "source": [
    "# from above graph selecting the point of convergence\n",
    "dtc_op= DecisionTreeClassifier(random_state=42, ccp_alpha= 0.02)\n",
    "dtc_op.fit(x_train, y_train)"
   ]
  },
  {
   "cell_type": "code",
   "execution_count": 39,
   "id": "d12baf0a",
   "metadata": {},
   "outputs": [],
   "source": [
    "y_pred = dtc_op.predict(x_test)"
   ]
  },
  {
   "cell_type": "code",
   "execution_count": 40,
   "id": "9cd68615",
   "metadata": {},
   "outputs": [
    {
     "data": {
      "text/plain": [
       "0.8666666666666667"
      ]
     },
     "execution_count": 40,
     "metadata": {},
     "output_type": "execute_result"
    }
   ],
   "source": [
    "accuracy_score(y_test, y_pred)"
   ]
  },
  {
   "cell_type": "code",
   "execution_count": 41,
   "id": "b4e1a29c",
   "metadata": {},
   "outputs": [
    {
     "data": {
      "text/plain": [
       "0.8607142857142858"
      ]
     },
     "execution_count": 41,
     "metadata": {},
     "output_type": "execute_result"
    }
   ],
   "source": [
    "dtc_op.score(x_train, y_train)"
   ]
  },
  {
   "cell_type": "code",
   "execution_count": 42,
   "id": "81772125",
   "metadata": {},
   "outputs": [
    {
     "data": {
      "text/plain": [
       "0.8666666666666667"
      ]
     },
     "execution_count": 42,
     "metadata": {},
     "output_type": "execute_result"
    }
   ],
   "source": [
    "dtc_op.score(x_test, y_test)"
   ]
  },
  {
   "cell_type": "code",
   "execution_count": 43,
   "id": "00040259",
   "metadata": {},
   "outputs": [
    {
     "data": {
      "text/plain": [
       "[Text(418.5, 453.0, 'X[8] <= 0.5\\ngini = 0.311\\nsamples = 280\\nvalue = [54, 226]'),\n",
       " Text(209.25, 271.8, 'X[4] <= 94.5\\ngini = 0.198\\nsamples = 224\\nvalue = [25, 199]'),\n",
       " Text(104.625, 90.59999999999997, 'gini = 0.467\\nsamples = 35\\nvalue = [13, 22]'),\n",
       " Text(313.875, 90.59999999999997, 'gini = 0.119\\nsamples = 189\\nvalue = [12, 177]'),\n",
       " Text(627.75, 271.8, 'X[4] <= 119.5\\ngini = 0.499\\nsamples = 56\\nvalue = [29, 27]'),\n",
       " Text(523.125, 90.59999999999997, 'gini = 0.287\\nsamples = 23\\nvalue = [19, 4]'),\n",
       " Text(732.375, 90.59999999999997, 'gini = 0.422\\nsamples = 33\\nvalue = [10, 23]')]"
      ]
     },
     "execution_count": 43,
     "metadata": {},
     "output_type": "execute_result"
    },
    {
     "data": {
      "image/png": "[encoded data removed]",
      "text/plain": [
       "<Figure size 1080x720 with 1 Axes>"
      ]
     },
     "metadata": {
      "needs_background": "light"
     },
     "output_type": "display_data"
    }
   ],
   "source": [
    "plt.figure(figsize=(15,10))\n",
    "tree.plot_tree(dtc_op, filled= True)"
   ]
  },
  {
   "cell_type": "code",
   "execution_count": 44,
   "id": "031a7620",
   "metadata": {},
   "outputs": [
    {
     "name": "stdout",
     "output_type": "stream",
     "text": [
      "              precision    recall  f1-score   support\n",
      "\n",
      "        high       0.75      0.50      0.60        24\n",
      "         low       0.88      0.96      0.92        96\n",
      "\n",
      "    accuracy                           0.87       120\n",
      "   macro avg       0.82      0.73      0.76       120\n",
      "weighted avg       0.86      0.87      0.86       120\n",
      "\n"
     ]
    }
   ],
   "source": [
    "print(classification_report(y_test, y_pred))"
   ]
  },
  {
   "cell_type": "code",
   "execution_count": 45,
   "id": "0eb3b1ee",
   "metadata": {},
   "outputs": [
    {
     "data": {
      "text/plain": [
       "array([[12, 12],\n",
       "       [ 4, 92]], dtype=int64)"
      ]
     },
     "execution_count": 45,
     "metadata": {},
     "output_type": "execute_result"
    }
   ],
   "source": [
    "confusion_matrix(y_test, y_pred)"
   ]
  },
  {
   "cell_type": "markdown",
   "id": "5b3c90d2",
   "metadata": {},
   "source": [
    "# Using Bagging Technique"
   ]
  },
  {
   "cell_type": "code",
   "execution_count": 64,
   "id": "cceb30f3",
   "metadata": {},
   "outputs": [],
   "source": [
    "from sklearn.ensemble import BaggingClassifier\n",
    "from sklearn.model_selection import cross_val_score"
   ]
  },
  {
   "cell_type": "code",
   "execution_count": 54,
   "id": "77f73241",
   "metadata": {},
   "outputs": [],
   "source": [
    "bagged_model = BaggingClassifier(\n",
    "        base_estimator=DecisionTreeClassifier(),\n",
    "        n_estimators= 100,\n",
    "        max_samples= 0.8,\n",
    "        oob_score= True,\n",
    "        random_state= 42\n",
    ")"
   ]
  },
  {
   "cell_type": "code",
   "execution_count": 55,
   "id": "db9d4060",
   "metadata": {},
   "outputs": [
    {
     "data": {
      "text/plain": [
       "BaggingClassifier(base_estimator=DecisionTreeClassifier(), max_samples=0.8,\n",
       "                  n_estimators=100, oob_score=True, random_state=42)"
      ]
     },
     "execution_count": 55,
     "metadata": {},
     "output_type": "execute_result"
    }
   ],
   "source": [
    "bagged_model.fit(x_train, y_train)"
   ]
  },
  {
   "cell_type": "code",
   "execution_count": 59,
   "id": "66d54184",
   "metadata": {},
   "outputs": [
    {
     "data": {
      "text/plain": [
       "0.8916666666666667"
      ]
     },
     "execution_count": 59,
     "metadata": {},
     "output_type": "execute_result"
    }
   ],
   "source": [
    "bagged_model.score(x_test, y_test)"
   ]
  },
  {
   "cell_type": "code",
   "execution_count": 60,
   "id": "a214cd13",
   "metadata": {},
   "outputs": [],
   "source": [
    "ypred_bag = bagged_model.predict(x_test)"
   ]
  },
  {
   "cell_type": "code",
   "execution_count": 61,
   "id": "5f2b8949",
   "metadata": {},
   "outputs": [
    {
     "data": {
      "text/plain": [
       "0.8916666666666667"
      ]
     },
     "execution_count": 61,
     "metadata": {},
     "output_type": "execute_result"
    }
   ],
   "source": [
    "accuracy_score(y_test, ypred_bag)"
   ]
  },
  {
   "cell_type": "code",
   "execution_count": 62,
   "id": "71a955f5",
   "metadata": {},
   "outputs": [
    {
     "name": "stdout",
     "output_type": "stream",
     "text": [
      "              precision    recall  f1-score   support\n",
      "\n",
      "        high       0.72      0.75      0.73        24\n",
      "         low       0.94      0.93      0.93        96\n",
      "\n",
      "    accuracy                           0.89       120\n",
      "   macro avg       0.83      0.84      0.83       120\n",
      "weighted avg       0.89      0.89      0.89       120\n",
      "\n"
     ]
    }
   ],
   "source": [
    "print(classification_report(y_test, ypred_bag))"
   ]
  },
  {
   "cell_type": "code",
   "execution_count": 63,
   "id": "b3a8276c",
   "metadata": {},
   "outputs": [
    {
     "data": {
      "text/plain": [
       "array([[18,  6],\n",
       "       [ 7, 89]], dtype=int64)"
      ]
     },
     "execution_count": 63,
     "metadata": {},
     "output_type": "execute_result"
    }
   ],
   "source": [
    "confusion_matrix(y_test, ypred_bag)"
   ]
  },
  {
   "cell_type": "code",
   "execution_count": 65,
   "id": "8b601470",
   "metadata": {},
   "outputs": [],
   "source": [
    "scores = cross_val_score(bagged_model, X, y, cv= 10)"
   ]
  },
  {
   "cell_type": "code",
   "execution_count": 66,
   "id": "a846138c",
   "metadata": {},
   "outputs": [
    {
     "data": {
      "text/plain": [
       "array([0.875, 0.85 , 0.85 , 0.775, 0.85 , 0.925, 0.85 , 0.85 , 0.85 ,\n",
       "       0.925])"
      ]
     },
     "execution_count": 66,
     "metadata": {},
     "output_type": "execute_result"
    }
   ],
   "source": [
    "scores"
   ]
  },
  {
   "cell_type": "code",
   "execution_count": 67,
   "id": "7a3257c7",
   "metadata": {},
   "outputs": [
    {
     "data": {
      "text/plain": [
       "0.86"
      ]
     },
     "execution_count": 67,
     "metadata": {},
     "output_type": "execute_result"
    }
   ],
   "source": [
    "np.mean(scores)"
   ]
  },
  {
   "cell_type": "markdown",
   "id": "3e9b00bc",
   "metadata": {},
   "source": [
    "# Conclusions\n",
    "### 1. It can be seen that Gini with max depth 3 gives less accuracy\n",
    "### 2. The entropy criteria with max depth 3 , shows good accuracy\n",
    "### 3. The same accuracy is obtained by using pruning techniqe\n",
    "### 4. Bagging Provided better results as compared to others"
   ]
  }
 ],
 "metadata": {
  "kernelspec": {
   "display_name": "Python 3",
   "language": "python",
   "name": "python3"
  },
  "language_info": {
   "codemirror_mode": {
    "name": "ipython",
    "version": 3
   },
   "file_extension": ".py",
   "mimetype": "text/x-python",
   "name": "python",
   "nbconvert_exporter": "python",
   "pygments_lexer": "ipython3",
   "version": "3.8.8"
  }
 },
 "nbformat": 4,
 "nbformat_minor": 5
}
